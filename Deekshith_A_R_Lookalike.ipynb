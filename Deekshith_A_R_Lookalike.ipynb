{
 "cells": [
  {
   "cell_type": "code",
   "execution_count": 43,
   "id": "7af88ab3-ae64-4446-b09c-f8931d9addc4",
   "metadata": {},
   "outputs": [],
   "source": [
    "# Import necessary libraries\n",
    "import pandas as pd\n",
    "from sklearn.metrics.pairwise import cosine_similarity\n",
    "from sklearn.preprocessing import StandardScaler\n",
    "import numpy as np"
   ]
  },
  {
   "cell_type": "code",
   "execution_count": 3,
   "id": "f0c77526-ca0c-4ec1-87ff-185e3ef226be",
   "metadata": {},
   "outputs": [],
   "source": [
    "# Load the datasets\n",
    "customers = pd.read_csv('Customers.csv')\n",
    "transactions = pd.read_csv('Transactions.csv')"
   ]
  },
  {
   "cell_type": "code",
   "execution_count": 5,
   "id": "600ad853-1392-4148-a8d8-3db378a81a25",
   "metadata": {},
   "outputs": [],
   "source": [
    "# Data Preparation\n",
    "# Merge customers with their transaction history\n",
    "customer_transactions = transactions.groupby('CustomerID').agg({\n",
    "    'TotalValue': 'sum',\n",
    "    'Quantity': 'sum'\n",
    "}).reset_index()"
   ]
  },
  {
   "cell_type": "code",
   "execution_count": 11,
   "id": "aa9c7411-cb25-44f6-90e9-217c8df0a7b7",
   "metadata": {},
   "outputs": [],
   "source": [
    "import warnings\n",
    "warnings.filterwarnings('ignore')"
   ]
  },
  {
   "cell_type": "code",
   "execution_count": 13,
   "id": "477ea4dd-0588-4ca5-897b-6b32d3dc8e39",
   "metadata": {},
   "outputs": [],
   "source": [
    "# Fill NaN values with 0 for customers with no transactions\n",
    "customer_data['TotalValue'].fillna(0, inplace=True)\n",
    "customer_data['Quantity'].fillna(0, inplace=True)"
   ]
  },
  {
   "cell_type": "code",
   "execution_count": 15,
   "id": "d0e97397-590b-42c1-b523-62b1d125a725",
   "metadata": {},
   "outputs": [],
   "source": [
    "# Feature Engineering\n",
    "# Select relevant features for similarity calculation\n",
    "features = customer_data[['Region', 'TotalValue', 'Quantity']]"
   ]
  },
  {
   "cell_type": "code",
   "execution_count": 17,
   "id": "b9d2d876-104a-4ecf-bf49-faef27c9a476",
   "metadata": {},
   "outputs": [],
   "source": [
    "# One-hot encode the 'Region' feature\n",
    "features = pd.get_dummies(features, columns=['Region'], drop_first=True)"
   ]
  },
  {
   "cell_type": "code",
   "execution_count": 19,
   "id": "a10908be-47a5-4472-bb2a-48eaf65ca157",
   "metadata": {},
   "outputs": [],
   "source": [
    "# Standardize the features\n",
    "scaler = StandardScaler()\n",
    "features_scaled = scaler.fit_transform(features)"
   ]
  },
  {
   "cell_type": "code",
   "execution_count": 21,
   "id": "4952b6aa-8608-400d-842d-251280aff3e3",
   "metadata": {},
   "outputs": [],
   "source": [
    "# Calculate similarity scores using cosine similarity\n",
    "similarity_matrix = cosine_similarity(features_scaled)"
   ]
  },
  {
   "cell_type": "code",
   "execution_count": 23,
   "id": "ddf23a86-a64d-44a9-abd9-afa86f0e5c5c",
   "metadata": {},
   "outputs": [],
   "source": [
    "# Create a DataFrame to hold similarity scores\n",
    "similarity_df = pd.DataFrame(similarity_matrix, index=customer_data['CustomerID'], columns=customer_data['CustomerID'])"
   ]
  },
  {
   "cell_type": "code",
   "execution_count": 31,
   "id": "d2d4579a-f5f0-4eb1-ab03-eb7815a2a742",
   "metadata": {},
   "outputs": [],
   "source": [
    "# Function to get top 3 lookalikes for a given customer\n",
    "def get_top_lookalikes(customer_id, n=3):\n",
    "    # Get the similarity scores for the given customer\n",
    "    scores = similarity_df[customer_id].sort_values(ascending=False)\n",
    "    # Exclude the customer themselves\n",
    "    scores = scores[scores.index != customer_id]\n",
    "    # Get the top n lookalikes\n",
    "    return scores.head(n)"
   ]
  },
  {
   "cell_type": "code",
   "execution_count": 27,
   "id": "c965f0b2-4c4f-42a7-bd51-b1c78b3c7479",
   "metadata": {},
   "outputs": [],
   "source": [
    "# Generate lookalikes for the first 20 customers\n",
    "lookalike_results = []\n",
    "for customer_id in customer_data['CustomerID'][:20]:\n",
    "    lookalikes = get_top_lookalikes(customer_id)\n",
    "    for lookalike_id, score in zip(lookalikes.index, lookalikes.values):\n",
    "        lookalike_results.append({\n",
    "            'CustomerID': customer_id,\n",
    "            'LookalikeID': lookalike_id,\n",
    "            'SimilarityScore': score\n",
    "        })"
   ]
  },
  {
   "cell_type": "code",
   "execution_count": 33,
   "id": "ab27e5c9-cfba-4335-8caa-36d2949dfe6c",
   "metadata": {},
   "outputs": [],
   "source": [
    "# Convert results to DataFrame\n",
    "lookalike_df = pd.DataFrame(lookalike_results)"
   ]
  },
  {
   "cell_type": "code",
   "execution_count": 35,
   "id": "e963d2ff-5a73-4fc8-9d16-0c58e99931ab",
   "metadata": {},
   "outputs": [],
   "source": [
    "# Save the results to Lookalike.csv\n",
    "lookalike_df.to_csv('Lookalike.csv', index=False)"
   ]
  },
  {
   "cell_type": "code",
   "execution_count": 39,
   "id": "01b389e5-00c5-4c44-99bf-23da680a6765",
   "metadata": {},
   "outputs": [],
   "source": [
    "# Evaluation of the Lookalike Model"
   ]
  },
  {
   "cell_type": "code",
   "execution_count": 45,
   "id": "dd68b2d5-e754-4a4b-b8eb-50a113a6f2e0",
   "metadata": {},
   "outputs": [
    {
     "name": "stdout",
     "output_type": "stream",
     "text": [
      "Model accuracy checks passed.\n"
     ]
    }
   ],
   "source": [
    "# 1. Model Accuracy and Logic\n",
    "def evaluate_model_accuracy(similarity_df):\n",
    "    # Check if the similarity matrix is square\n",
    "    assert similarity_df.shape[0] == similarity_df.shape[1], \"Similarity matrix is not square.\"\n",
    "    \n",
    "    # Check for NaN values in the similarity matrix\n",
    "    assert not np.any(np.isnan(similarity_df)), \"Similarity matrix contains NaN values.\"\n",
    "    \n",
    "    print(\"Model accuracy checks passed.\")\n",
    "    \n",
    "evaluate_model_accuracy(similarity_df)"
   ]
  },
  {
   "cell_type": "code",
   "execution_count": 47,
   "id": "58a5a584-e09d-49d5-a365-619beb3ec58d",
   "metadata": {},
   "outputs": [],
   "source": [
    "# 2. Quality of Recommendations and Similarity Scores\n",
    "def evaluate_recommendations(lookalike_results):\n",
    "    for customer_id, lookalikes in lookalike_results.items():\n",
    "        print(f\"Customer ID: {customer_id}\")\n",
    "        for lookalike_id, score in lookalikes:\n",
    "            print(f\"  Lookalike ID: {lookalike_id}, Similarity Score: {score:.4f}\")\n",
    "        print()\n"
   ]
  },
  {
   "cell_type": "code",
   "execution_count": 49,
   "id": "0140a116-396e-4942-91bb-a8fcdf93842f",
   "metadata": {},
   "outputs": [
    {
     "name": "stdout",
     "output_type": "stream",
     "text": [
      "Customer ID: C0001\n",
      "  Lookalike ID: C0107, Similarity Score: 0.9965\n",
      "  Lookalike ID: C0137, Similarity Score: 0.9958\n",
      "  Lookalike ID: C0184, Similarity Score: 0.9957\n",
      "\n",
      "Customer ID: C0002\n",
      "  Lookalike ID: C0088, Similarity Score: 0.9961\n",
      "  Lookalike ID: C0142, Similarity Score: 0.9880\n",
      "  Lookalike ID: C0159, Similarity Score: 0.9729\n",
      "\n",
      "Customer ID: C0003\n",
      "  Lookalike ID: C0147, Similarity Score: 0.9978\n",
      "  Lookalike ID: C0190, Similarity Score: 0.9970\n",
      "  Lookalike ID: C0174, Similarity Score: 0.9824\n",
      "\n",
      "Customer ID: C0004\n",
      "  Lookalike ID: C0113, Similarity Score: 0.9944\n",
      "  Lookalike ID: C0102, Similarity Score: 0.9795\n",
      "  Lookalike ID: C0169, Similarity Score: 0.9788\n",
      "\n",
      "Customer ID: C0005\n",
      "  Lookalike ID: C0186, Similarity Score: 0.9969\n",
      "  Lookalike ID: C0159, Similarity Score: 0.9964\n",
      "  Lookalike ID: C0140, Similarity Score: 0.9910\n",
      "\n",
      "Customer ID: C0006\n",
      "  Lookalike ID: C0048, Similarity Score: 0.9936\n",
      "  Lookalike ID: C0126, Similarity Score: 0.9913\n",
      "  Lookalike ID: C0187, Similarity Score: 0.9905\n",
      "\n",
      "Customer ID: C0007\n",
      "  Lookalike ID: C0146, Similarity Score: 1.0000\n",
      "  Lookalike ID: C0178, Similarity Score: 0.9943\n",
      "  Lookalike ID: C0177, Similarity Score: 0.9935\n",
      "\n",
      "Customer ID: C0008\n",
      "  Lookalike ID: C0018, Similarity Score: 0.9840\n",
      "  Lookalike ID: C0122, Similarity Score: 0.9620\n",
      "  Lookalike ID: C0046, Similarity Score: 0.9558\n",
      "\n",
      "Customer ID: C0009\n",
      "  Lookalike ID: C0198, Similarity Score: 1.0000\n",
      "  Lookalike ID: C0014, Similarity Score: 0.9965\n",
      "  Lookalike ID: C0063, Similarity Score: 0.9939\n",
      "\n",
      "Customer ID: C0010\n",
      "  Lookalike ID: C0019, Similarity Score: 0.9905\n",
      "  Lookalike ID: C0073, Similarity Score: 0.9848\n",
      "  Lookalike ID: C0166, Similarity Score: 0.9826\n",
      "\n",
      "Customer ID: C0011\n",
      "  Lookalike ID: C0107, Similarity Score: 0.9952\n",
      "  Lookalike ID: C0048, Similarity Score: 0.9950\n",
      "  Lookalike ID: C0001, Similarity Score: 0.9889\n",
      "\n",
      "Customer ID: C0012\n",
      "  Lookalike ID: C0148, Similarity Score: 0.9959\n",
      "  Lookalike ID: C0163, Similarity Score: 0.9937\n",
      "  Lookalike ID: C0155, Similarity Score: 0.9893\n",
      "\n",
      "Customer ID: C0013\n",
      "  Lookalike ID: C0163, Similarity Score: 0.9964\n",
      "  Lookalike ID: C0148, Similarity Score: 0.9942\n",
      "  Lookalike ID: C0155, Similarity Score: 0.9918\n",
      "\n",
      "Customer ID: C0014\n",
      "  Lookalike ID: C0060, Similarity Score: 0.9994\n",
      "  Lookalike ID: C0009, Similarity Score: 0.9965\n",
      "  Lookalike ID: C0198, Similarity Score: 0.9961\n",
      "\n",
      "Customer ID: C0015\n",
      "  Lookalike ID: C0020, Similarity Score: 0.9986\n",
      "  Lookalike ID: C0058, Similarity Score: 0.9895\n",
      "  Lookalike ID: C0033, Similarity Score: 0.9882\n",
      "\n",
      "Customer ID: C0016\n",
      "  Lookalike ID: C0154, Similarity Score: 0.9961\n",
      "  Lookalike ID: C0185, Similarity Score: 0.9903\n",
      "  Lookalike ID: C0183, Similarity Score: 0.9879\n",
      "\n",
      "Customer ID: C0017\n",
      "  Lookalike ID: C0124, Similarity Score: 0.9887\n",
      "  Lookalike ID: C0053, Similarity Score: 0.9725\n",
      "  Lookalike ID: C0041, Similarity Score: 0.9693\n",
      "\n",
      "Customer ID: C0018\n",
      "  Lookalike ID: C0122, Similarity Score: 0.9952\n",
      "  Lookalike ID: C0046, Similarity Score: 0.9849\n",
      "  Lookalike ID: C0008, Similarity Score: 0.9840\n",
      "\n",
      "Customer ID: C0019\n",
      "  Lookalike ID: C0166, Similarity Score: 0.9985\n",
      "  Lookalike ID: C0172, Similarity Score: 0.9970\n",
      "  Lookalike ID: C0073, Similarity Score: 0.9968\n",
      "\n",
      "Customer ID: C0020\n",
      "  Lookalike ID: C0015, Similarity Score: 0.9986\n",
      "  Lookalike ID: C0058, Similarity Score: 0.9956\n",
      "  Lookalike ID: C0033, Similarity Score: 0.9939\n",
      "\n"
     ]
    }
   ],
   "source": [
    "# Evaluate the recommendations\n",
    "evaluate_recommendations(lookalike_results)"
   ]
  },
  {
   "cell_type": "code",
   "execution_count": 51,
   "id": "27397e05-291b-4e87-ac84-1a084113fa96",
   "metadata": {},
   "outputs": [
    {
     "name": "stdout",
     "output_type": "stream",
     "text": [
      "Average Similarity Score of Recommendations: 0.9905\n"
     ]
    }
   ],
   "source": [
    "# Additional Evaluation Metrics\n",
    "def calculate_average_similarity(lookalike_results):\n",
    "    scores = []\n",
    "    for lookalikes in lookalike_results.values():\n",
    "        for _, score in lookalikes:\n",
    "            scores.append(score)\n",
    "    average_score = np.mean(scores)\n",
    "    print(f\"Average Similarity Score of Recommendations: {average_score:.4f}\")\n",
    "\n",
    "calculate_average_similarity(lookalike_results)"
   ]
  },
  {
   "cell_type": "code",
   "execution_count": null,
   "id": "63cf59b7-5210-4b79-8195-2faecde9f0e9",
   "metadata": {},
   "outputs": [],
   "source": []
  }
 ],
 "metadata": {
  "kernelspec": {
   "display_name": "Python 3 (ipykernel)",
   "language": "python",
   "name": "python3"
  },
  "language_info": {
   "codemirror_mode": {
    "name": "ipython",
    "version": 3
   },
   "file_extension": ".py",
   "mimetype": "text/x-python",
   "name": "python",
   "nbconvert_exporter": "python",
   "pygments_lexer": "ipython3",
   "version": "3.12.4"
  }
 },
 "nbformat": 4,
 "nbformat_minor": 5
}
